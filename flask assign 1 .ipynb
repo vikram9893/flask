{
 "cells": [
  {
   "cell_type": "code",
   "execution_count": null,
   "id": "d66e04a8-06fa-485b-8e46-49a310fd9dd2",
   "metadata": {},
   "outputs": [],
   "source": [
    "Ans 1 Flask is a micro web framework written in Python. It is classified as a microframework because it does not require particular tools or libraries. \n",
    "It has no database abstraction layer, form validation, or any other components where pre-existing third-party libraries provide common functions.\n",
    "Advantages:\n",
    "It is a lightweight framework that offers hassle-free development.\n",
    "Provide flexibility to the developer to experiment with their modules or architecture.\n",
    "It is suitable for small projects.\n",
    "Offers a built-in development server and fast debugger."
   ]
  },
  {
   "cell_type": "code",
   "execution_count": null,
   "id": "1891007f-a489-487f-be18-ff5f8ad9eb76",
   "metadata": {},
   "outputs": [],
   "source": [
    "Ans 2\n",
    "from flask import Flask\n",
    "\n",
    "app = Flask(__name__)\n",
    "\n",
    "@app.route('/')\n",
    "def hello():\n",
    "    return 'Hello World!!'\n",
    "\n",
    "if __name__ == '__main__':\n",
    "    app.run()\n"
   ]
  },
  {
   "cell_type": "code",
   "execution_count": null,
   "id": "ce060bb9-fc6e-4c63-ae29-5e44f7fe4cb9",
   "metadata": {},
   "outputs": [],
   "source": [
    "Ans 3 App routing is the technique used to map the specific URL with the associated function intended to perform some task. \n",
    "The Latest Web frameworks use the routing technique to help users remember application URLs.\n",
    "It is helpful to access the desired page directly without navigating from the home page."
   ]
  },
  {
   "cell_type": "code",
   "execution_count": null,
   "id": "d7b79ae7-3255-4db0-a486-e95750c2982a",
   "metadata": {},
   "outputs": [],
   "source": [
    "Ans 4 \n",
    "from flask import Flask\n",
    "\n",
    "app = Flask(__name__)\n",
    "\n",
    "@app.route('/welcome')\n",
    "def welcome():\n",
    "    return 'Welcome to ABC Corporation'\n",
    "\n",
    "@app.route('/')\n",
    "def info():\n",
    "    return 'Company Name: ABC Corporation<br>Location: India<br>Contact Detail: 999-999-9999'\n",
    "\n",
    "if __name__ == '__main__':\n",
    "    app.run()\n"
   ]
  },
  {
   "cell_type": "code",
   "execution_count": null,
   "id": "666976fe-db08-4e29-a917-53a6d7fc0f43",
   "metadata": {},
   "outputs": [],
   "source": [
    "Ans 5 The url_for() function is very useful for dynamically building a URL for a specific function.\n",
    "The function accepts the name of a function as first argument, and one or more keyword arguments, each corresponding to the variable part of URL.\n",
    "\n",
    "from flask import Flask, url_for\n",
    "\n",
    "app = Flask(__name__)\n",
    "\n",
    "@app.route('/')\n",
    "def index():\n",
    "    return 'Welcome to the homepage!'\n",
    "\n",
    "@app.route('/user/<username>')\n",
    "def profile(username):\n",
    "    return f'Welcome to your profile, {username}!'\n",
    "\n",
    "if __name__ == '__main__':\n",
    "    with app.test_request_context():\n",
    "        print(url_for('index'))\n",
    "        print(url_for('profile', username='John Doe'))\n"
   ]
  }
 ],
 "metadata": {
  "kernelspec": {
   "display_name": "Python 3 (ipykernel)",
   "language": "python",
   "name": "python3"
  },
  "language_info": {
   "codemirror_mode": {
    "name": "ipython",
    "version": 3
   },
   "file_extension": ".py",
   "mimetype": "text/x-python",
   "name": "python",
   "nbconvert_exporter": "python",
   "pygments_lexer": "ipython3",
   "version": "3.10.8"
  }
 },
 "nbformat": 4,
 "nbformat_minor": 5
}
