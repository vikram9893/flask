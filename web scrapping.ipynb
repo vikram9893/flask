{
 "cells": [
  {
   "cell_type": "code",
   "execution_count": null,
   "id": "457d0147-e61b-4a9e-9e9e-67f652445de4",
   "metadata": {},
   "outputs": [],
   "source": [
    "Ans 1 Web scraping is the process of collecting structured web data in an automated manner. \n",
    "It's also widely known as web data extraction or web data scraping. \n",
    "Some of the main use cases of web scraping include price monitoring, price intelligence,\n",
    "news monitoring, lead generation, and market research among many others.\n",
    "Web scraping typically extracts large amounts of data from websites for a variety of uses such as price monitoring,\n",
    "enriching machine learning models, financial data aggregation, monitoring consumer sentiment, news tracking, etc."
   ]
  },
  {
   "cell_type": "code",
   "execution_count": null,
   "id": "3e8df679-c260-41a3-8793-71b5327d2d58",
   "metadata": {},
   "outputs": [],
   "source": [
    "Ans 2 The simplest form of web scraping is manually copying and pasting data from a web page into a text file or spreadsheet. ...\n",
    "Text pattern matching. \n",
    "HTTP programming. \n",
    "HTML parsing. \n"
   ]
  },
  {
   "cell_type": "code",
   "execution_count": null,
   "id": "82268368-d130-4f6f-861c-7825c22080f7",
   "metadata": {},
   "outputs": [],
   "source": [
    "Ans 3 Beautiful Soup is a Python package for parsing HTML and XML documents (including having malformed markup,\n",
    "    i.e. non-closed tags, so named after tag soup). \n",
    "It creates a parse tree for parsed pages that can be used to extract data from HTML, which is useful for web scraping."
   ]
  },
  {
   "cell_type": "code",
   "execution_count": null,
   "id": "cdd67d92-8e38-493c-8bbe-f8550cdc1c24",
   "metadata": {},
   "outputs": [],
   "source": [
    "Ans 4 Flask is a lightweight framework to build websites.\n",
    "We'll use this to parse our collected data and display it as HTML in a new HTML file. \n",
    "The requests module allows us to send http requests to the website we want to scrape.\n",
    "The first line imports the Flask class and the render_template method from the flask library"
   ]
  },
  {
   "cell_type": "code",
   "execution_count": null,
   "id": "355b7bfd-a4a1-46c2-8653-02f1af775e0d",
   "metadata": {},
   "outputs": [],
   "source": [
    "Ans 5 AWS Elastic Beanstalk\n",
    "This AWS service supports running and managing web applications. \n",
    "Elastic Beanstalk allows for the easy deployment of applications from capacity provisioning, load balancing, and auto-scaling to application health monitoring.\n",
    "With its auto-scaling properties, this service simplifies demands in scaling to adjust to the needs of the business.\n",
    "It helps to manage peaks in workloads and traffic with minimum costs. \n",
    "Basically, AWS Elastic Beanstalk is a developer-friendly tool since it manages servers, load balancers, firewalls, and networks simply. \n",
    "As a result, this service allows developers to show much more focus on coding."
   ]
  }
 ],
 "metadata": {
  "kernelspec": {
   "display_name": "Python 3 (ipykernel)",
   "language": "python",
   "name": "python3"
  },
  "language_info": {
   "codemirror_mode": {
    "name": "ipython",
    "version": 3
   },
   "file_extension": ".py",
   "mimetype": "text/x-python",
   "name": "python",
   "nbconvert_exporter": "python",
   "pygments_lexer": "ipython3",
   "version": "3.10.8"
  }
 },
 "nbformat": 4,
 "nbformat_minor": 5
}
